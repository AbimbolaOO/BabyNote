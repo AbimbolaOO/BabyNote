{
 "cells": [
  {
   "cell_type": "code",
   "execution_count": 0,
   "metadata": {
    "colab": {},
    "colab_type": "code",
    "id": "etCwX58PmT2V"
   },
   "outputs": [],
   "source": [
    "import torch\n",
    "import numpy as np\n",
    "import pandas as pd\n",
    "import matplotlib.pyplot as plt\n",
    "import torch.nn as nn\n",
    "import torch.nn.functional as F\n",
    "from torchvision import datasets, transforms\n",
    "from torch.utils.data.sampler import  SubsetRandomSampler\n",
    "from torch import optim\n",
    "from torch.autograd import Variable\n",
    "\n",
    "from PIL import Image"
   ]
  },
  {
   "cell_type": "code",
   "execution_count": 0,
   "metadata": {
    "colab": {},
    "colab_type": "code",
    "id": "kmLEn8PrmWKW"
   },
   "outputs": [],
   "source": [
    "batch_size = 64\n",
    "valid_size = 0.2\n",
    "num_workers= 4\n",
    "\n",
    "device = torch.device(\"cuda\" if torch.cuda.is_available() else \"cpu\")\n",
    "\n",
    "transform = transforms.Compose([\n",
    "    transforms.RandomHorizontalFlip(),\n",
    "    transforms.RandomRotation(10),\n",
    "    transforms.ToTensor(),\n",
    "    transforms.Normalize([0.5, 0.5, 0.5],\n",
    "                         [0.5, 0.5, 0.5])\n",
    "  ])\n",
    "\n",
    "train_data = datasets.MNIST(root='data', train=True,\n",
    "                           download=True, transform=transform)\n",
    "\n",
    "test_data = datasets.MNIST(root='data', train=False,\n",
    "                           download=True, transform=transform)\n",
    "\n",
    "num_train = len(train_data)\n",
    "indices = list(range(num_train))\n",
    "np.random.shuffle(indices)\n",
    "split = int(np.floor(valid_size * num_train))\n",
    "train_idx, valid_idx = indices[split:], indices[:split]\n",
    "\n",
    "\n",
    "train_sampler = SubsetRandomSampler(train_idx)\n",
    "valid_sampler = SubsetRandomSampler(valid_idx)\n",
    "\n",
    "\n",
    "train_loader = torch.utils.data.DataLoader(train_data, batch_size=batch_size,\n",
    "    sampler=train_sampler, num_workers=num_workers)\n",
    "\n",
    "valid_loader = torch.utils.data.DataLoader(train_data, batch_size=batch_size, \n",
    "    sampler=valid_sampler, num_workers=num_workers)\n",
    "\n",
    "test_loader = torch.utils.data.DataLoader(test_data, batch_size=batch_size, \n",
    "    num_workers=num_workers)"
   ]
  },
  {
   "cell_type": "code",
   "execution_count": 52,
   "metadata": {
    "colab": {
     "base_uri": "https://localhost:8080/",
     "height": 229
    },
    "colab_type": "code",
    "id": "J9vR13jnmeKr",
    "outputId": "e76efeca-53fb-4e85-8d17-8b63c9d5a2d0"
   },
   "outputs": [
    {
     "data": {
      "text/plain": [
       "<matplotlib.image.AxesImage at 0x7f5463392400>"
      ]
     },
     "execution_count": 52,
     "metadata": {
      "tags": []
     },
     "output_type": "execute_result"
    },
    {
     "data": {
      "image/png": "[encoded data removed]",
      "text/plain": [
       "<matplotlib.figure.Figure at 0x7f546367fb38>"
      ]
     },
     "metadata": {
      "tags": []
     },
     "output_type": "display_data"
    }
   ],
   "source": [
    "# obtain one batch of training images\n",
    "dataiter = iter(train_loader)\n",
    "images, labels = dataiter.next()\n",
    "images = images.numpy()\n",
    "\n",
    "# get one image from the batch\n",
    "img = np.squeeze(images[0])\n",
    "\n",
    "fig = plt.figure(figsize = (3,3)) \n",
    "ax = fig.add_subplot(111)\n",
    "ax.imshow(img, cmap='gray')"
   ]
  },
  {
   "cell_type": "code",
   "execution_count": 0,
   "metadata": {
    "colab": {},
    "colab_type": "code",
    "id": "VvXQ_0i8mhDw"
   },
   "outputs": [],
   "source": [
    "class WhyteNetwork(nn.Module):\n",
    "  \n",
    "  def __init__(self):\n",
    "    \n",
    "    super(WhyteNetwork, self).__init__()\n",
    "    \n",
    "    hidden_1 = 258\n",
    "    hidden_2 = 128\n",
    "    hidden_3 = 64\n",
    "    \n",
    "    #The first convolution layer with 16 feature map\n",
    "    self.conv1 = nn.Conv2d(1, 16, 3, padding=1)\n",
    "    #The secound convolutional layer with 32 fature map\n",
    "    self.conv2 = nn.Conv2d(16, 32, 3, padding=1)\n",
    "    #The is maxpooling layer it help to reduce the x and y dimension of the output\n",
    "    #image size of the secound convolution layer\n",
    "    self.maxpool = nn.MaxPool2d(2,2)\n",
    "    \n",
    "    self.fc_1 = nn.Linear(32*7*7, hidden_1)\n",
    "    self.fc_2 = nn.Linear(hidden_1, hidden_2)\n",
    "    self.fc_3 = nn.Linear(hidden_2, hidden_3)\n",
    "    self.fc_4 = nn.Linear(hidden_3, 10)\n",
    "    \n",
    "    #Here implemented dropout for the fully connected layers because it help the\n",
    "    #to reduce the dead relu problems\n",
    "    self.dropout1 = nn.Dropout(p = 0.2)\n",
    "    self.dropout2 = nn.Dropout(p = 0.4)\n",
    "    self.dropout3 = nn.Dropout(p = 0.2)\n",
    "    \n",
    "      \n",
    "  def forward(self, x):\n",
    "    \n",
    "    x = F.relu(self.conv1(x))\n",
    "    x = self.maxpool(x)\n",
    "    x = self.maxpool(F.relu(self.conv2(x)))\n",
    "    \n",
    "    x = x.view(-1, 32*7*7)\n",
    "    x = self.dropout1(F.relu(self.fc_1(x)))\n",
    "    x = self.dropout2(F.relu(self.fc_2(x)))\n",
    "    x = self.dropout3(F.relu(self.fc_3(x)))\n",
    "    x = F.log_softmax(self.fc_4(x), dim=1)\n",
    "    \n",
    "    return x\n",
    "    "
   ]
  },
  {
   "cell_type": "code",
   "execution_count": 54,
   "metadata": {
    "colab": {
     "base_uri": "https://localhost:8080/",
     "height": 221
    },
    "colab_type": "code",
    "id": "BV9uSm34mrAp",
    "outputId": "aabe4c91-9cdd-44dd-ccd0-a80646016702"
   },
   "outputs": [
    {
     "name": "stdout",
     "output_type": "stream",
     "text": [
      "WhyteNetwork(\n",
      "  (conv1): Conv2d(1, 16, kernel_size=(3, 3), stride=(1, 1), padding=(1, 1))\n",
      "  (conv2): Conv2d(16, 32, kernel_size=(3, 3), stride=(1, 1), padding=(1, 1))\n",
      "  (maxpool): MaxPool2d(kernel_size=2, stride=2, padding=0, dilation=1, ceil_mode=False)\n",
      "  (fc_1): Linear(in_features=1568, out_features=258, bias=True)\n",
      "  (fc_2): Linear(in_features=258, out_features=128, bias=True)\n",
      "  (fc_3): Linear(in_features=128, out_features=64, bias=True)\n",
      "  (fc_4): Linear(in_features=64, out_features=10, bias=True)\n",
      "  (dropout1): Dropout(p=0.2)\n",
      "  (dropout2): Dropout(p=0.4)\n",
      "  (dropout3): Dropout(p=0.2)\n",
      ")\n"
     ]
    }
   ],
   "source": [
    "model = WhyteNetwork().cuda()\n",
    "criterion = nn.NLLLoss()\n",
    "optimizer = optim.Adam(model.parameters(), lr=0.001)\n",
    "\n",
    "print(model)"
   ]
  },
  {
   "cell_type": "code",
   "execution_count": 55,
   "metadata": {
    "colab": {
     "base_uri": "https://localhost:8080/",
     "height": 765
    },
    "colab_type": "code",
    "id": "tRrwwfDVmub6",
    "outputId": "834206aa-68db-47bb-e189-e0e357c4c8dc"
   },
   "outputs": [
    {
     "name": "stdout",
     "output_type": "stream",
     "text": [
      "Epoch: 1 \tTraining Loss: 0.478653 \tValidation Loss: 0.045936\n",
      "Validation loss decreased (inf --> 0.045936).  Saving model ...\n",
      "Epoch: 2 \tTraining Loss: 0.172541 \tValidation Loss: 0.027342\n",
      "Validation loss decreased (0.045936 --> 0.027342).  Saving model ...\n",
      "Epoch: 3 \tTraining Loss: 0.119284 \tValidation Loss: 0.020257\n",
      "Validation loss decreased (0.027342 --> 0.020257).  Saving model ...\n",
      "Epoch: 4 \tTraining Loss: 0.101778 \tValidation Loss: 0.018270\n",
      "Validation loss decreased (0.020257 --> 0.018270).  Saving model ...\n",
      "Epoch: 5 \tTraining Loss: 0.088948 \tValidation Loss: 0.017604\n",
      "Validation loss decreased (0.018270 --> 0.017604).  Saving model ...\n",
      "Epoch: 6 \tTraining Loss: 0.076659 \tValidation Loss: 0.017158\n",
      "Validation loss decreased (0.017604 --> 0.017158).  Saving model ...\n",
      "Epoch: 7 \tTraining Loss: 0.068974 \tValidation Loss: 0.015618\n",
      "Validation loss decreased (0.017158 --> 0.015618).  Saving model ...\n",
      "Epoch: 8 \tTraining Loss: 0.066904 \tValidation Loss: 0.014002\n",
      "Validation loss decreased (0.015618 --> 0.014002).  Saving model ...\n",
      "Epoch: 9 \tTraining Loss: 0.061590 \tValidation Loss: 0.014891\n",
      "Epoch: 10 \tTraining Loss: 0.057025 \tValidation Loss: 0.013827\n",
      "Validation loss decreased (0.014002 --> 0.013827).  Saving model ...\n",
      "Epoch: 11 \tTraining Loss: 0.054738 \tValidation Loss: 0.012221\n",
      "Validation loss decreased (0.013827 --> 0.012221).  Saving model ...\n",
      "Epoch: 12 \tTraining Loss: 0.052614 \tValidation Loss: 0.012910\n",
      "Epoch: 13 \tTraining Loss: 0.047931 \tValidation Loss: 0.011962\n",
      "Validation loss decreased (0.012221 --> 0.011962).  Saving model ...\n",
      "Epoch: 14 \tTraining Loss: 0.047900 \tValidation Loss: 0.011608\n",
      "Validation loss decreased (0.011962 --> 0.011608).  Saving model ...\n",
      "Epoch: 15 \tTraining Loss: 0.045764 \tValidation Loss: 0.012496\n",
      "Epoch: 16 \tTraining Loss: 0.044615 \tValidation Loss: 0.011495\n",
      "Validation loss decreased (0.011608 --> 0.011495).  Saving model ...\n",
      "Epoch: 17 \tTraining Loss: 0.042755 \tValidation Loss: 0.011972\n",
      "Epoch: 18 \tTraining Loss: 0.042370 \tValidation Loss: 0.009538\n",
      "Validation loss decreased (0.011495 --> 0.009538).  Saving model ...\n",
      "Epoch: 19 \tTraining Loss: 0.038886 \tValidation Loss: 0.012172\n",
      "Epoch: 20 \tTraining Loss: 0.039397 \tValidation Loss: 0.013262\n",
      "Epoch: 21 \tTraining Loss: 0.039734 \tValidation Loss: 0.010718\n",
      "Epoch: 22 \tTraining Loss: 0.036541 \tValidation Loss: 0.010968\n",
      "Epoch: 23 \tTraining Loss: 0.033413 \tValidation Loss: 0.011745\n",
      "Epoch: 24 \tTraining Loss: 0.034076 \tValidation Loss: 0.010682\n",
      "Epoch: 25 \tTraining Loss: 0.032504 \tValidation Loss: 0.011698\n",
      "Epoch: 26 \tTraining Loss: 0.033742 \tValidation Loss: 0.011652\n",
      "Epoch: 27 \tTraining Loss: 0.031928 \tValidation Loss: 0.010835\n",
      "Epoch: 28 \tTraining Loss: 0.029792 \tValidation Loss: 0.011747\n",
      "Epoch: 29 \tTraining Loss: 0.031865 \tValidation Loss: 0.010968\n",
      "Epoch: 30 \tTraining Loss: 0.032170 \tValidation Loss: 0.010753\n"
     ]
    }
   ],
   "source": [
    "# number of epochs to train the model\n",
    "n_epochs = 30\n",
    "\n",
    "# initialize tracker for minimum validation loss\n",
    "valid_loss_min = np.Inf # set initial \"min\" to infinity\n",
    "\n",
    "for epoch in range(n_epochs):\n",
    "    # monitor training loss\n",
    "    train_loss = 0.0\n",
    "    valid_loss = 0.0\n",
    "    \n",
    "    ###################\n",
    "    # train the model #\n",
    "    ###################\n",
    "    model.train() # prep model for training\n",
    "    for data, target in train_loader:\n",
    "        data, target = data.cuda(), target.cuda()\n",
    "        # clear the gradients of all optimized variables\n",
    "        optimizer.zero_grad()\n",
    "        # forward pass: compute predicted outputs by passing inputs to the model\n",
    "        output = model(data)\n",
    "        # calculate the loss\n",
    "        loss = criterion(output, target)\n",
    "        # backward pass: compute gradient of the loss with respect to model parameters\n",
    "        loss.backward()\n",
    "        # perform a single optimization step (parameter update)\n",
    "        optimizer.step()\n",
    "        # update running training loss\n",
    "        train_loss += loss.item()*data.size(0)\n",
    "        \n",
    "    ######################    \n",
    "    # validate the model #\n",
    "    ######################\n",
    "    model.eval() # prep model for evaluation\n",
    "    for data, target in valid_loader:\n",
    "        data, target = data.cuda(), target.cuda()\n",
    "        # forward pass: compute predicted outputs by passing inputs to the model\n",
    "        output = model(data)\n",
    "        # calculate the loss\n",
    "        loss = criterion(output, target)\n",
    "        # update running validation loss \n",
    "        valid_loss += loss.item()*data.size(0)\n",
    "        \n",
    "    # print training/validation statistics \n",
    "    # calculate average loss over an epoch\n",
    "    train_loss = train_loss/len(train_loader.dataset)\n",
    "    valid_loss = valid_loss/len(valid_loader.dataset)\n",
    "    \n",
    "    print('Epoch: {} \\tTraining Loss: {:.6f} \\tValidation Loss: {:.6f}'.format(\n",
    "        epoch+1, \n",
    "        train_loss,\n",
    "        valid_loss\n",
    "        ))\n",
    "    \n",
    "    # save model if validation loss has decreased\n",
    "    if valid_loss <= valid_loss_min:\n",
    "        print('Validation loss decreased ({:.6f} --> {:.6f}).  Saving model ...'.format(\n",
    "        valid_loss_min,\n",
    "        valid_loss))\n",
    "        torch.save(model.state_dict(), 'childrenModel.pt')\n",
    "        valid_loss_min = valid_loss"
   ]
  },
  {
   "cell_type": "code",
   "execution_count": 0,
   "metadata": {
    "colab": {},
    "colab_type": "code",
    "id": "1e2HFw__m5g2"
   },
   "outputs": [],
   "source": [
    "#Here is a function that helps to load in our checkpoint\n",
    "def load_checkpoint(filepath):\n",
    "  \n",
    "    checkpoint = torch.load(filepath)\n",
    "    model.load_state_dict(checkpoint)\n",
    "\n",
    "    return model"
   ]
  },
  {
   "cell_type": "code",
   "execution_count": 0,
   "metadata": {
    "colab": {},
    "colab_type": "code",
    "id": "Vr4j-BC_Dw0c"
   },
   "outputs": [],
   "source": [
    "#Here i will load in my checkpoint the code here\n",
    "model = load_checkpoint('childrenModel.pt')"
   ]
  },
  {
   "cell_type": "code",
   "execution_count": 58,
   "metadata": {
    "colab": {
     "base_uri": "https://localhost:8080/",
     "height": 255
    },
    "colab_type": "code",
    "id": "fh7l3SjIm_ol",
    "outputId": "9ee7c77e-b4c1-4881-cc84-512b8c8a5dc9"
   },
   "outputs": [
    {
     "name": "stdout",
     "output_type": "stream",
     "text": [
      "Test Loss: 0.045507\n",
      "\n",
      "Test Accuracy of     0: 100% (241/241)\n",
      "Test Accuracy of     1: 98% (285/288)\n",
      "Test Accuracy of     2: 97% (256/263)\n",
      "Test Accuracy of     3: 98% (257/261)\n",
      "Test Accuracy of     4: 98% (267/270)\n",
      "Test Accuracy of     5: 96% (209/216)\n",
      "Test Accuracy of     6: 97% (218/223)\n",
      "Test Accuracy of     7: 99% (261/263)\n",
      "Test Accuracy of     8: 99% (222/223)\n",
      "Test Accuracy of     9: 97% (258/264)\n",
      "\n",
      "Test Accuracy (Overall): 98% (2474/2512)\n"
     ]
    }
   ],
   "source": [
    "#The code below is used to test the performance of the model on the test data\n",
    "\n",
    "# initialize lists to monitor test loss and accuracy\n",
    "test_loss = 0.0\n",
    "class_correct = list(0. for i in range(10))\n",
    "class_total = list(0. for i in range(10))\n",
    "\n",
    "model.eval() # prep model for evaluation\n",
    "\n",
    "for data, target in test_loader:\n",
    "    data, target = data.cuda(), target.cuda()\n",
    "    # forward pass: compute predicted outputs by passing inputs to the model\n",
    "    output = model(data)\n",
    "    # calculate the loss\n",
    "    loss = criterion(output, target)\n",
    "    # update test loss \n",
    "    test_loss += loss.item()*data.size(0)\n",
    "    # convert output probabilities to predicted class\n",
    "    _, pred = torch.max(output, 1)\n",
    "    # compare predictions to true label\n",
    "    correct = np.squeeze(pred.eq(target.data.view_as(pred)))\n",
    "    # calculate test accuracy for each object class\n",
    "    for i in range(16):\n",
    "        label = target.data[i]\n",
    "        class_correct[label] += correct[i].item()\n",
    "        class_total[label] += 1\n",
    "\n",
    "# calculate and print avg test loss\n",
    "test_loss = test_loss/len(test_loader.dataset)\n",
    "print('Test Loss: {:.6f}\\n'.format(test_loss))\n",
    "\n",
    "for i in range(10):\n",
    "    if class_total[i] > 0:\n",
    "        print('Test Accuracy of %5s: %2d%% (%2d/%2d)' % (\n",
    "            str(i), 100 * class_correct[i] / class_total[i],\n",
    "            np.sum(class_correct[i]), np.sum(class_total[i])))\n",
    "    else:\n",
    "        print('Test Accuracy of %5s: N/A (no training examples)' % (classes[i]))\n",
    "\n",
    "print('\\nTest Accuracy (Overall): %2d%% (%2d/%2d)' % (\n",
    "    100. * np.sum(class_correct) / np.sum(class_total),\n",
    "    np.sum(class_correct), np.sum(class_total)))"
   ]
  },
  {
   "cell_type": "code",
   "execution_count": 0,
   "metadata": {
    "colab": {},
    "colab_type": "code",
    "id": "w7ocmbFqoTC2"
   },
   "outputs": [],
   "source": [
    "#The function below helps to process the image so it can be passed to the model\n",
    "def process_image(img_path, max_size=28, shape=None):\n",
    "    ''' Load in and transform an image, making sure the image\n",
    "       is = 28 pixels in the x-y dims.'''\n",
    "    \n",
    "    image = Image.open(img_path).convert('LA')\n",
    "    \n",
    "    # large images will slow down processing\n",
    "    if max(image.size) > max_size:\n",
    "        size = max_size\n",
    "    else:\n",
    "        size = max(image.size)\n",
    "    \n",
    "    if shape is not None:\n",
    "        size = shape\n",
    "        \n",
    "    in_transform = transforms.Compose([\n",
    "                        transforms.Resize(size),\n",
    "                        transforms.ToTensor(),\n",
    "                        transforms.Normalize((0.5, 0.5, 0.5), \n",
    "                                             (0.5, 0.5, 0.5))])\n",
    "\n",
    "    # discard the transparent, alpha channel (that's the :1) and add the batch dimension\n",
    "    image = in_transform(image)[:1,:,:].unsqueeze(0)\n",
    "    \n",
    "    return image"
   ]
  },
  {
   "cell_type": "code",
   "execution_count": 0,
   "metadata": {
    "colab": {},
    "colab_type": "code",
    "id": "AVz264YeGvwK"
   },
   "outputs": [],
   "source": [
    "#The function here helps to get prediction from the model\n",
    "def predict(image_path, model, topk_value):\n",
    "  \n",
    "    image = process_image(image_path, shape=(28, 28))\n",
    "    image = image.type(torch.FloatTensor)\n",
    "    model = model.type(torch.FloatTensor)\n",
    "    model.eval()\n",
    "    logps = model(image).to(device)\n",
    "    ps = torch.exp(logps)\n",
    "    probs, classes = ps.topk(topk_value, dim=1)\n",
    "    probs = Variable(probs, requires_grad= False)\n",
    "    probs = probs.type(torch.FloatTensor).numpy().squeeze()\n",
    "    classes = Variable(classes, requires_grad = False)\n",
    "    classes = classes.type(torch.FloatTensor).numpy().squeeze()\n",
    "\n",
    "    return probs, classes"
   ]
  },
  {
   "cell_type": "code",
   "execution_count": 0,
   "metadata": {
    "colab": {},
    "colab_type": "code",
    "id": "HHOY-WKTIJM_"
   },
   "outputs": [],
   "source": [
    "#The function here helps to plot the predicted results for visulization purposes\n",
    "def display_images(image_path, model, topk_value):\n",
    "    probs, classes = predict(image_path, model, topk_value)\n",
    "    disp_image = Image.open(image_path)\n",
    "    \n",
    "    fig = plt.figure(figsize=(5, 10))\n",
    "\n",
    "    ax1 = fig.add_subplot(211)\n",
    "    ax1.imshow(disp_image)\n",
    "    ax1.axis('off')\n",
    "    ax1.set_title(image_path)\n",
    "    ax2 = fig.add_subplot(212)\n",
    "\n",
    "    ax2_label = []\n",
    "    for name in classes:\n",
    "        ax2_label.append(str(int(name)))\n",
    "    ax2.barh(ax2_label, probs)\n",
    "\n",
    "    return plt.show()"
   ]
  },
  {
   "cell_type": "code",
   "execution_count": 62,
   "metadata": {
    "colab": {
     "base_uri": "https://localhost:8080/",
     "height": 606
    },
    "colab_type": "code",
    "id": "IheuC4VbIV4U",
    "outputId": "71142226-4aeb-4e5b-a1c4-6f31c829885a"
   },
   "outputs": [
    {
     "data": {
      "image/png": "[encoded data removed]",
      "text/plain": [
       "<matplotlib.figure.Figure at 0x7f546351e1d0>"
      ]
     },
     "metadata": {
      "tags": []
     },
     "output_type": "display_data"
    }
   ],
   "source": [
    "display_images('drive/My Drive/one-number1.png', model, 5)"
   ]
  }
 ],
 "metadata": {
  "accelerator": "GPU",
  "colab": {
   "collapsed_sections": [],
   "name": "Abimbola's little side project.ipynb",
   "provenance": [],
   "version": "0.3.2"
  },
  "kernelspec": {
   "display_name": "Python 3",
   "language": "python",
   "name": "python3"
  },
  "language_info": {
   "codemirror_mode": {
    "name": "ipython",
    "version": 3
   },
   "file_extension": ".py",
   "mimetype": "text/x-python",
   "name": "python",
   "nbconvert_exporter": "python",
   "pygments_lexer": "ipython3",
   "version": "3.6.5"
  }
 },
 "nbformat": 4,
 "nbformat_minor": 1
}
