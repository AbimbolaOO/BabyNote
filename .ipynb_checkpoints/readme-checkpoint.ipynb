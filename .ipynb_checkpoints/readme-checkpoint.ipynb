{
 "cells": [
  {
   "cell_type": "markdown",
   "metadata": {},
   "source": [
    "### PROJECT DESCRIPTION\n",
    "\n",
    "This project is named __Baby Notes__. it is a simple educational app designed for children below the age of five. The project makes use of machine learning to supervise kids while they learn to write numbers.\n",
    "<br/>\n",
    "<br/>\n",
    "__Apps landing page__\n",
    "<br/>\n",
    "<img src='Android Mobile – 1.png'>\n",
    "<br/>\n",
    "__Reasons for using deep learning__\n",
    "* To enconrage children to write naturally without any smoothing software since deep learning model can easily recognise a number even when written in a slightly different way. \n",
    "* It is a fun way to introduce children to what artificial intelligence will can do as regards there education as they grow.\n",
    "* It eliminates the needs for parent supervision while the child write since the deep learning model can recognise the number writen no matter the orientation the device was held while writting.\n",
    "<br/>\n",
    "\n",
    "__How to use__\n",
    "<br/>\n",
    "<img src='Android Mobile – 2.png'>\n",
    "<br/>\n",
    "The child is expected to write into the box provided as shown in the image above either with the finger or with a pen if the phone provides one. The number is the captured and saved as image into a database and the *image_path* is then passed to the deep learning model as show in the code below which predicts the number.\n",
    "\n",
    "`#this function here helps to get prediction from the model`<br/>\n",
    "`def predict(image_path, model, topk_value):`<br/>\n",
    "  \n",
    "`    image = process_image(image_path, shape=(28, 28))`<br/>\n",
    "`    image = image.type(torch.FloatTensor)`<br/>\n",
    "`    model = model.type(torch.FloatTensor)`<br/>\n",
    "`    model.eval()`<br/>\n",
    "`    logps = model(image).to(device)`<br/>\n",
    "`    ps = torch.exp(logps)`<br/>\n",
    "`    probs, classes = ps.topk(topk_value, dim=1)`<br/>\n",
    "`    probs = Variable(probs, requires_grad= False)`<br/>\n",
    "`    probs = probs.type(torch.FloatTensor).numpy().squeeze()`<br/>\n",
    "`    classes = Variable(classes, requires_grad = False)`<br/>\n",
    "`    classes = classes.type(torch.FloatTensor).numpy().squeeze()`<br/>\n",
    "\n",
    "`    return probs, classes`<br/>\n",
    "\n",
    "[Here is the link to colab where the code was properly written](https://colab.research.google.com/drive/1YbIAkt6McutPYKRFt86PBbLwA3-hB9rK)\n",
    "\n",
    "<br/>\n",
    "If the child has written the "
   ]
  },
  {
   "cell_type": "code",
   "execution_count": null,
   "metadata": {},
   "outputs": [],
   "source": []
  }
 ],
 "metadata": {
  "kernelspec": {
   "display_name": "Python 3",
   "language": "python",
   "name": "python3"
  },
  "language_info": {
   "codemirror_mode": {
    "name": "ipython",
    "version": 3
   },
   "file_extension": ".py",
   "mimetype": "text/x-python",
   "name": "python",
   "nbconvert_exporter": "python",
   "pygments_lexer": "ipython3",
   "version": "3.6.5"
  }
 },
 "nbformat": 4,
 "nbformat_minor": 2
}
